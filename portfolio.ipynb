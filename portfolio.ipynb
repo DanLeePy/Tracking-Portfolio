{
 "cells": [
  {
   "cell_type": "code",
   "execution_count": 7,
   "metadata": {},
   "outputs": [],
   "source": [
    "import pandas as pd\n",
    "import datetime as dt\n",
    "import matplotlib.pyplot as plt\n",
    "import yfinance as yf\n",
    "import ta"
   ]
  },
  {
   "cell_type": "code",
   "execution_count": 55,
   "metadata": {},
   "outputs": [],
   "source": [
    "class TrackPortfolio:\n",
    "    \n",
    "    def __init__(self, ticker, indicators, start_date, end_date):\n",
    "        self._ticker = ticker\n",
    "        self._indicators = indicators\n",
    "        self._start_date = start_date\n",
    "        self._end_date = end_date\n",
    "\n",
    "    def dl_data(self):\n",
    "        df = yf.download(self._ticker, \n",
    "                              start=self._start_date, \n",
    "                              end=self._end_date, \n",
    "                              progress=False)\n",
    "        df = ta.add_all_ta_features(\n",
    "            df, open=\"Open\", high=\"High\", low=\"Low\", close=\"Close\", volume=\"Volume\", fillna=True)\n",
    "        all_weekdays = pd.date_range(start=start_date, end=end_date, freq='B')\n",
    "        df = df.reindex(all_weekdays)\n",
    "        self._df = df.fillna(method='ffill')\n",
    "        \n",
    "    def plot_chart(self):\n",
    "        fig, ax = plt.subplots(figsize=(16,9))\n",
    "        for i in self._indicators:\n",
    "            j = self._df.loc[:,i]\n",
    "            ax.plot(j.index, j, label= i)\n",
    "        ax.set_xlabel('Date')\n",
    "        ax.set_ylabel(self._ticker)\n",
    "        ax.legend()\n",
    "        plt.show()\n",
    "    \n",
    "    @property\n",
    "    def get_indicators(self):\n",
    "        return self._df.columns\n",
    "    \n",
    "    @property\n",
    "    def get_df(self):\n",
    "        return self._df"
   ]
  },
  {
   "cell_type": "code",
   "execution_count": 142,
   "metadata": {},
   "outputs": [],
   "source": [
    "indicators_bb = ['Close', 'volatility_bbh', 'volatility_bbm', 'volatility_bbl']\n",
    "indicators_ma = ['Close', 'trend_sma_fast', 'trend_sma_slow', 'trend_ema_fast', 'trend_ema_slow']\n",
    "buy_signal = ['volatility_bbli', 'volatility_kcli']\n",
    "sell_signal = ['volatility_bbhi', 'volatility_kchi']"
   ]
  },
  {
   "cell_type": "code",
   "execution_count": 143,
   "metadata": {},
   "outputs": [],
   "source": [
    "start_date = '2015-01-01'\n",
    "end_date = dt.datetime.today()"
   ]
  },
  {
   "cell_type": "code",
   "execution_count": 145,
   "metadata": {},
   "outputs": [
    {
     "data": {
      "text/plain": [
       "77"
      ]
     },
     "execution_count": 145,
     "metadata": {},
     "output_type": "execute_result"
    }
   ],
   "source": [
    "buy_days = d05.get_df.loc[d05.get_df.loc[:, buy_signal].sum(axis = 1) == len(buy_signal),:].index\n",
    "len(buy_days)"
   ]
  },
  {
   "cell_type": "code",
   "execution_count": 146,
   "metadata": {},
   "outputs": [
    {
     "data": {
      "text/plain": [
       "97"
      ]
     },
     "execution_count": 146,
     "metadata": {},
     "output_type": "execute_result"
    }
   ],
   "source": [
    "sell_days = d05.get_df.loc[d05.get_df.loc[:, sell_signal].sum(axis = 1) == len(sell_signal),:].index\n",
    "len(sell_days)"
   ]
  },
  {
   "cell_type": "code",
   "execution_count": 147,
   "metadata": {},
   "outputs": [
    {
     "data": {
      "text/plain": [
       "Index(['Open', 'High', 'Low', 'Close', 'Adj Close', 'Volume', 'volume_adi',\n",
       "       'volume_obv', 'volume_cmf', 'volume_fi', 'momentum_mfi', 'volume_em',\n",
       "       'volume_sma_em', 'volume_vpt', 'volume_nvi', 'volume_vwap',\n",
       "       'volatility_atr', 'volatility_bbm', 'volatility_bbh', 'volatility_bbl',\n",
       "       'volatility_bbw', 'volatility_bbp', 'volatility_bbhi',\n",
       "       'volatility_bbli', 'volatility_kcc', 'volatility_kch', 'volatility_kcl',\n",
       "       'volatility_kcw', 'volatility_kcp', 'volatility_kchi',\n",
       "       'volatility_kcli', 'volatility_dcl', 'volatility_dch', 'trend_macd',\n",
       "       'trend_macd_signal', 'trend_macd_diff', 'trend_sma_fast',\n",
       "       'trend_sma_slow', 'trend_ema_fast', 'trend_ema_slow', 'trend_adx',\n",
       "       'trend_adx_pos', 'trend_adx_neg', 'trend_vortex_ind_pos',\n",
       "       'trend_vortex_ind_neg', 'trend_vortex_ind_diff', 'trend_trix',\n",
       "       'trend_mass_index', 'trend_cci', 'trend_dpo', 'trend_kst',\n",
       "       'trend_kst_sig', 'trend_kst_diff', 'trend_ichimoku_conv',\n",
       "       'trend_ichimoku_base', 'trend_ichimoku_a', 'trend_ichimoku_b',\n",
       "       'trend_visual_ichimoku_a', 'trend_visual_ichimoku_b', 'trend_aroon_up',\n",
       "       'trend_aroon_down', 'trend_aroon_ind', 'trend_psar_up',\n",
       "       'trend_psar_down', 'trend_psar_up_indicator',\n",
       "       'trend_psar_down_indicator', 'momentum_rsi', 'momentum_tsi',\n",
       "       'momentum_uo', 'momentum_stoch', 'momentum_stoch_signal', 'momentum_wr',\n",
       "       'momentum_ao', 'momentum_kama', 'momentum_roc', 'others_dr',\n",
       "       'others_dlr', 'others_cr'],\n",
       "      dtype='object')"
      ]
     },
     "execution_count": 147,
     "metadata": {},
     "output_type": "execute_result"
    }
   ],
   "source": [
    "d05.get_indicators"
   ]
  },
  {
   "cell_type": "code",
   "execution_count": null,
   "metadata": {},
   "outputs": [],
   "source": []
  }
 ],
 "metadata": {
  "kernelspec": {
   "display_name": "Python 3",
   "language": "python",
   "name": "python3"
  },
  "language_info": {
   "codemirror_mode": {
    "name": "ipython",
    "version": 3
   },
   "file_extension": ".py",
   "mimetype": "text/x-python",
   "name": "python",
   "nbconvert_exporter": "python",
   "pygments_lexer": "ipython3",
   "version": "3.7.4"
  }
 },
 "nbformat": 4,
 "nbformat_minor": 4
}
